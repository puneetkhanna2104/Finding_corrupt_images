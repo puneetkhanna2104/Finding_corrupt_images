{
 "cells": [
  {
   "cell_type": "markdown",
   "metadata": {},
   "source": [
    "# Finding corrupt Images "
   ]
  },
  {
   "cell_type": "code",
   "execution_count": null,
   "metadata": {},
   "outputs": [],
   "source": [
    "# Import Modules \n",
    "import os\n",
    "from PIL import Image"
   ]
  },
  {
   "cell_type": "code",
   "execution_count": null,
   "metadata": {},
   "outputs": [],
   "source": [
    "# path of the folder in which you want to check for corrupt images.\n",
    "path='<Images>'\n",
    "\n",
    "corr_img=[]   # empty list to save the names of corrupt images.\n",
    "\n",
    "for filename in os.listdir(path):\n",
    "  if filename.endswith('.jpg'):             # It will check only for '.jpg' images  \n",
    "    try:\n",
    "      img = Image.open(path+'/'+filename)   # open the image file\n",
    "      img.verify()                          # verify that it is, in fact an image\n",
    "    except (IOError, SyntaxError) as e:\n",
    "      print('Bad file:', filename)          # print out the names of corrupt files\n",
    "      corr_img.append(filename)\n"
   ]
  },
  {
   "cell_type": "markdown",
   "metadata": {},
   "source": [
    "## Deleting corrupt Images "
   ]
  },
  {
   "cell_type": "code",
   "execution_count": null,
   "metadata": {},
   "outputs": [],
   "source": [
    "for i in corr_img:\n",
    "    os.remove(path+'/'+i)    "
   ]
  }
 ],
 "metadata": {
  "kernelspec": {
   "display_name": "Python 3",
   "language": "python",
   "name": "python3"
  },
  "language_info": {
   "codemirror_mode": {
    "name": "ipython",
    "version": 3
   },
   "file_extension": ".py",
   "mimetype": "text/x-python",
   "name": "python",
   "nbconvert_exporter": "python",
   "pygments_lexer": "ipython3",
   "version": "3.7.1"
  }
 },
 "nbformat": 4,
 "nbformat_minor": 2
}
